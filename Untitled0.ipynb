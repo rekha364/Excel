{
  "nbformat": 4,
  "nbformat_minor": 0,
  "metadata": {
    "colab": {
      "name": "Untitled0.ipynb",
      "provenance": [],
      "authorship_tag": "ABX9TyPtMEzMrq1TZv2nbEEci+rv",
      "include_colab_link": true
    },
    "kernelspec": {
      "name": "python3",
      "display_name": "Python 3"
    }
  },
  "cells": [
    {
      "cell_type": "markdown",
      "metadata": {
        "id": "view-in-github",
        "colab_type": "text"
      },
      "source": [
        "<a href=\"https://colab.research.google.com/github/rekha364/Excel/blob/master/Untitled0.ipynb\" target=\"_parent\"><img src=\"https://colab.research.google.com/assets/colab-badge.svg\" alt=\"Open In Colab\"/></a>"
      ]
    },
    {
      "cell_type": "code",
      "metadata": {
        "id": "4istUsMJB3Fl",
        "colab_type": "code",
        "colab": {
          "base_uri": "https://localhost:8080/",
          "height": 34
        },
        "outputId": "aa86bd85-4e1c-48af-ea76-0d6fa5ddc8ca"
      },
      "source": [
        "# Enter your code here. Read input from STDIN. Print output to STDOUT\n",
        "\n",
        "import numpy as np\n",
        "import math\n",
        "def reverse_it(my_list):\n",
        "  prev_no = 0\n",
        "  my_list = list(my_list)\n",
        "  n = 0\n",
        "  for i in my_list:\n",
        "    the_number = float(i[1])\n",
        "    if(n == len(my_list)):\n",
        "      break\n",
        "    if(n == 0):\n",
        "      prev_no = the_number\n",
        "      continue  \n",
        "    #print(n)\n",
        "    return n\n",
        "    if(the_number > prev_no):\n",
        "      x = my_list[n]\n",
        "      my_list[n] = my_list[n-1]\n",
        "      my_list[n-1] = x \n",
        "      prev_no = the_number\n",
        "    n += 1\n",
        "  #return(my_list)\n",
        "given_list = [('item1', '15.20'), ('item2', '12.10'), ('item3', '24.5')]\n",
        "returned_value = reverse_it(given_list)\n",
        "print(returned_value)"
      ],
      "execution_count": 37,
      "outputs": [
        {
          "output_type": "stream",
          "text": [
            "None\n"
          ],
          "name": "stdout"
        }
      ]
    }
  ]
}